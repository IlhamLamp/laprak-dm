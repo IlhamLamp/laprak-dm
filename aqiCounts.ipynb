{
 "cells": [
  {
   "cell_type": "code",
   "execution_count": 2,
   "metadata": {},
   "outputs": [],
   "source": [
    "import pandas as pd\n",
    "from sklearn.linear_model import LinearRegression"
   ]
  },
  {
   "cell_type": "code",
   "execution_count": 3,
   "metadata": {},
   "outputs": [],
   "source": [
    "# Load data from CSV file\n",
    "data = pd.read_csv('aqi.csv')\n",
    "\n",
    "# Calculate AQI based on PM2.5, PM10, NO, NO2, NOx, NH3, CO, SO2, O3, and Benzene\n",
    "data['AQI'] = data[['PM2.5', 'PM10', 'NO', 'NO2', 'NOx',\n",
    "                    'NH3', 'CO', 'SO2', 'O3', 'Benzene']].max(axis=1)"
   ]
  },
  {
   "cell_type": "code",
   "execution_count": 15,
   "metadata": {},
   "outputs": [],
   "source": [
    "# Cek apakah terdapat nilai NaN pada data input\n",
    "df = pd.DataFrame(data)\n",
    "if df.isna().sum().sum() > 0:\n",
    "    # Jika terdapat nilai NaN, hapus baris yang mengandung nilai NaN\n",
    "    df.dropna(inplace=True)\n",
    "\n"
   ]
  },
  {
   "cell_type": "code",
   "execution_count": 16,
   "metadata": {},
   "outputs": [
    {
     "name": "stdout",
     "output_type": "stream",
     "text": [
      "0      221.85\n",
      "1      232.04\n",
      "2      295.76\n",
      "3      250.62\n",
      "4      216.49\n",
      "        ...  \n",
      "513     46.97\n",
      "514     30.70\n",
      "515     42.19\n",
      "516     41.07\n",
      "517     44.22\n",
      "Name: AQI, Length: 518, dtype: float64\n"
     ]
    }
   ],
   "source": [
    "print(data['AQI'])"
   ]
  },
  {
   "cell_type": "code",
   "execution_count": 17,
   "metadata": {},
   "outputs": [],
   "source": [
    "# Fill missing AQI values with the mean AQI value\n",
    "mean_AQI = data['AQI'].mean()\n",
    "data['AQI'].fillna(mean_AQI, inplace=True)"
   ]
  },
  {
   "cell_type": "code",
   "execution_count": 18,
   "metadata": {},
   "outputs": [],
   "source": [
    "data.to_csv('aqiFIX.csv', index=False)\n"
   ]
  },
  {
   "cell_type": "code",
   "execution_count": null,
   "metadata": {},
   "outputs": [],
   "source": [
    "# # Perform linear regression to predict AQI based on other variables\n",
    "# lr = LinearRegression()\n",
    "# x = data[['PM2.5', 'PM10', 'NO', 'NO2', 'NOx',\n",
    "#           'NH3', 'CO', 'SO2', 'O3', 'Benzene']]\n",
    "# y = data['AQI']\n",
    "# lr.fit(x, y)"
   ]
  }
 ],
 "metadata": {
  "kernelspec": {
   "display_name": "Python 3",
   "language": "python",
   "name": "python3"
  },
  "language_info": {
   "codemirror_mode": {
    "name": "ipython",
    "version": 3
   },
   "file_extension": ".py",
   "mimetype": "text/x-python",
   "name": "python",
   "nbconvert_exporter": "python",
   "pygments_lexer": "ipython3",
   "version": "3.9.6"
  },
  "orig_nbformat": 4
 },
 "nbformat": 4,
 "nbformat_minor": 2
}
